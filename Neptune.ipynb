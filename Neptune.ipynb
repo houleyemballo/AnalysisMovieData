{
 "cells": [
  {
   "cell_type": "markdown",
   "metadata": {},
   "source": [
    "# File Variables to Use #"
   ]
  },
  {
   "cell_type": "code",
   "execution_count": 1,
   "metadata": {},
   "outputs": [
    {
     "name": "stdout",
     "output_type": "stream",
     "text": [
      "DataCleaning.ipynb\n",
      "DataInvestigation_Alex.ipynb\n",
      "Neptune.ipynb\n",
      "README.md\n",
      "zippedData\n"
     ]
    }
   ],
   "source": [
    "!ls"
   ]
  },
  {
   "cell_type": "code",
   "execution_count": 7,
   "metadata": {},
   "outputs": [],
   "source": [
    "import pandas as pd\n",
    "\n",
    "movie_gross_df = pd.read_csv('zippedData/bom.movie_gross.csv.gz') # CLEANED except for year/title thing\n",
    "imdb_name_basics_df = pd.read_csv('zippedData/imdb.name.basics.csv.gz')\n",
    "imdb_title_akas_df = pd.read_csv('zippedData/imdb.title.akas.csv.gz')\n",
    "imdb_title_basics_df = pd.read_csv('zippedData/imdb.title.basics.csv.gz') # JENNIFER \n",
    "imdb_title_crew_df = pd.read_csv('zippedData/imdb.title.crew.csv.gz')\n",
    "imdb_title_principals_df = pd.read_csv('zippedData/imdb.title.principals.csv.gz')\n",
    "imdb_title_ratings_df = pd.read_csv('zippedData/imdb.title.ratings.csv.gz') #ALEX \n",
    "# rt_movie_info_df = pd.read_csv('zippedData/rt.movie_info.tsv.gz', delimiter='\\t')\n",
    "# rt_reviews_df = pd.read_csv('zippedData/rt.reviews.tsv.gz', delimiter = '\\t', encoding='latin1')\n",
    "tmdb_movies_df = pd.read_csv('zippedData/tmdb.movies.csv.gz') #CLEAN \n",
    "tn_movie_budgets_df = pd.read_csv('zippedData/tn.movie_budgets.csv.gz') #PATRICK "
   ]
  },
  {
   "cell_type": "markdown",
   "metadata": {},
   "source": [
    "## Cleaning To Dos for Movie Gross ##\n",
    "Get rid of rows with null values in the studio field and in the domestic gross field since there aren't many of them\n",
    "ignore the foreign gross nulls, info may be listed on other sheets iirc. Alternately possibly could be calculated w/ info from other sheets\n",
    "do a unique value check on year, make sure nothing weird\n",
    "do a unique value check on studio, can we replace w/proper names?\n",
    "sort by domestic gross and check the tail\n",
    "clean out \"(YEAR)\" from movie titles (via regular expression?)"
   ]
  },
  {
   "cell_type": "code",
   "execution_count": 3,
   "metadata": {},
   "outputs": [],
   "source": [
    "movie_gross_df.dropna(subset=['studio','domestic_gross'], inplace = True)\n"
   ]
  },
  {
   "cell_type": "code",
   "execution_count": null,
   "metadata": {},
   "outputs": [],
   "source": [
    "#importing regex so I can more easily find the films with the year added to their titles\n",
    "\n",
    "import re"
   ]
  },
  {
   "cell_type": "code",
   "execution_count": null,
   "metadata": {},
   "outputs": [],
   "source": [
    "\n",
    "# df[df['Country (region)'].str.count('^[pP].*')>0]\n",
    "movie_gross_df[movie_gross_df['title'].str.count(\"/\\(([^()\\]*)\\)/g'\")>0]"
   ]
  },
  {
   "cell_type": "markdown",
   "metadata": {},
   "source": [
    "## Cleaning To Dos for tmdb_movies_df ##\n",
    "- add genre columns\n",
    "- check min/maxs\n",
    "- note no nulls\n",
    "- clean out rows w/empty lists in genre category (like 10% of the data set, 2.6k, more then I like but average isn't going to cut it and there's no way to manually enter that many)"
   ]
  },
  {
   "cell_type": "code",
   "execution_count": null,
   "metadata": {},
   "outputs": [],
   "source": [
    "# Gets rid of row of empty lists in google\n",
    "\n",
    "tmdb_movies_df.drop(tmdb_movies_df[tmdb_movies_df['genre_ids'] == '[]'].index, inplace = True)"
   ]
  },
  {
   "cell_type": "code",
   "execution_count": null,
   "metadata": {},
   "outputs": [],
   "source": [
    "## going to try and create a column for each genre based on the list and then populate it with boolean for the particular film\n",
    "## start going to make a dictionary of the codes, then going to loop through, each loop creates a column and populates it\n",
    "\n",
    "genre_dict = {28:'Action', 12: 'Adventure', 16: 'Animation', 35: 'Comedy', 80:'Crime', 99:'Documentary',18:'Drama', 10751:'Family',\n",
    "              14:'Fantasy', 36: 'History', 27:'Horror', 10402:'Music', 9648:'Mystery', 10749:'Romance', 878:'Science Fiction',\n",
    "              53:'Thriller', 10752:'War',37:'Western'}\n",
    "#didn't include TV Movie category since we don't care about those (may want to filter them out...)"
   ]
  },
  {
   "cell_type": "code",
   "execution_count": null,
   "metadata": {},
   "outputs": [],
   "source": [
    "# clears out the tv movies \n",
    "tmdb_movies_df.drop(tmdb_movies_df.loc[tmdb_movies_df['genre_ids'].str.contains('10770')].index, inplace = True)"
   ]
  },
  {
   "cell_type": "code",
   "execution_count": null,
   "metadata": {},
   "outputs": [],
   "source": [
    "## creates new columns with True/False values\n",
    "\n",
    "for key, value in genre_dict.items():\n",
    "    tmdb_movies_df[value] = tmdb_movies_df['genre_ids'].str.contains(str(key))"
   ]
  },
  {
   "cell_type": "markdown",
   "metadata": {},
   "source": [
    "## QUESTIONS FOR TEACHERS ##"
   ]
  },
  {
   "cell_type": "markdown",
   "metadata": {},
   "source": [
    "- WHy is the GitHub notebook so different from the \"live\" version?\n",
    "- How to get regular expression to work? \n",
    "- What kind of graph are good to show a category with multiple values aka genre - stacked bar chart?"
   ]
  },
  {
   "cell_type": "markdown",
   "metadata": {},
   "source": [
    "## INVESTIGATION GOALS ##\n",
    "\n",
    "- Alex: genre by profit or genre by likes, if possible some kind of stacked bar chart, What kinds of films are popular? \n",
    "- Patrick: production budget v profit - gross vs foreign, possibly incorporating genre, What films are the most profitable? \n",
    "- Jennifer: genre over **time** - aka What's being made? What studio is making what?"
   ]
  },
  {
   "cell_type": "code",
   "execution_count": null,
   "metadata": {},
   "outputs": [],
   "source": []
  }
 ],
 "metadata": {
  "kernelspec": {
   "display_name": "Python (learn-env)",
   "language": "python",
   "name": "learn-env"
  },
  "language_info": {
   "codemirror_mode": {
    "name": "ipython",
    "version": 3
   },
   "file_extension": ".py",
   "mimetype": "text/x-python",
   "name": "python",
   "nbconvert_exporter": "python",
   "pygments_lexer": "ipython3",
   "version": "3.8.5"
  }
 },
 "nbformat": 4,
 "nbformat_minor": 4
}
