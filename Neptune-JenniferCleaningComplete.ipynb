{
 "cells": [
  {
   "cell_type": "markdown",
   "metadata": {},
   "source": [
    "# File Variables to Use #"
   ]
  },
  {
   "cell_type": "code",
   "execution_count": 1,
   "metadata": {},
   "outputs": [
    {
     "name": "stdout",
     "output_type": "stream",
     "text": [
      "DataExplorationCont.ipynb\n",
      "DataInvestigation_Alex.ipynb\n",
      "InitialDataExploration.ipynb\n",
      "Movie-Data-Project1.ipynb\n",
      "Neptune-Jennifer Cleaning.ipynb\n",
      "Neptune-JenniferCleaningComplete.ipynb\n",
      "README.md\n",
      "imdb_title_basics.csv\n",
      "zippedData\n"
     ]
    }
   ],
   "source": [
    "!ls"
   ]
  },
  {
   "cell_type": "code",
   "execution_count": 2,
   "metadata": {},
   "outputs": [],
   "source": [
    "import pandas as pd\n",
    "import numpy as np\n",
    "pd.options.display.float_format = '{:.5f}'.format\n",
    "import re\n",
    "import matplotlib.pyplot as plt\n",
    "%matplotlib inline \n",
    "movie_gross_df = pd.read_csv('zippedData/bom.movie_gross.csv.gz') # CLEANED except for year/title thing\n",
    "imdb_name_basics_df = pd.read_csv('zippedData/imdb.name.basics.csv.gz')\n",
    "imdb_title_akas_df = pd.read_csv('zippedData/imdb.title.akas.csv.gz')\n",
    "imdb_title_basics_df = pd.read_csv('zippedData/imdb.title.basics.csv.gz') # JENNIFER \n",
    "imdb_title_crew_df = pd.read_csv('zippedData/imdb.title.crew.csv.gz')\n",
    "imdb_title_principals_df = pd.read_csv('zippedData/imdb.title.principals.csv.gz')\n",
    "imdb_title_ratings_df = pd.read_csv('zippedData/imdb.title.ratings.csv.gz') #ALEX \n",
    "# rt_movie_info_df = pd.read_csv('zippedData/rt.movie_info.tsv.gz', delimiter='\\t')\n",
    "# rt_reviews_df = pd.read_csv('zippedData/rt.reviews.tsv.gz', delimiter = '\\t', encoding='latin1')\n",
    "tmdb_movies_df = pd.read_csv('zippedData/tmdb.movies.csv.gz') #CLEAN \n",
    "tn_movie_budgets_df = pd.read_csv('zippedData/tn.movie_budgets.csv.gz') #PATRICK "
   ]
  },
  {
   "cell_type": "markdown",
   "metadata": {},
   "source": [
    "## Cleaning To Dos for Movie Gross ##\n",
    "Get rid of rows with null values in the studio field and in the domestic gross field since there aren't many of them\n",
    "ignore the foreign gross nulls, info may be listed on other sheets iirc. Alternately possibly could be calculated w/ info from other sheets\n",
    "do a unique value check on year, make sure nothing weird\n",
    "do a unique value check on studio, can we replace w/proper names?\n",
    "sort by domestic gross and check the tail\n",
    "clean out \"(YEAR)\" from movie titles (via regular expression?)"
   ]
  },
  {
   "cell_type": "code",
   "execution_count": 3,
   "metadata": {},
   "outputs": [],
   "source": [
    "movie_gross_df.dropna(subset=['studio','domestic_gross'], inplace = True)\n"
   ]
  },
  {
   "cell_type": "code",
   "execution_count": 4,
   "metadata": {},
   "outputs": [],
   "source": [
    "#importing regex so I can more easily find the films with the year added to their titles\n",
    "\n",
    "import re"
   ]
  },
  {
   "cell_type": "code",
   "execution_count": 5,
   "metadata": {},
   "outputs": [],
   "source": [
    "\n",
    "# df[df['Country (region)'].str.count('^[pP].*')>0]\n",
    "#movie_gross_df[movie_gross_df['title'].str.count(\"/\\(([^()\\]*)\\)/g'\")>0]"
   ]
  },
  {
   "cell_type": "markdown",
   "metadata": {},
   "source": [
    "## Cleaning To Dos for tmdb_movies_df ##\n",
    "- add genre columns\n",
    "- check min/maxs\n",
    "- note no nulls\n",
    "- clean out rows w/empty lists in genre category (like 10% of the data set, 2.6k, more then I like but average isn't going to cut it and there's no way to manually enter that many)"
   ]
  },
  {
   "cell_type": "code",
   "execution_count": 6,
   "metadata": {},
   "outputs": [],
   "source": [
    "# Gets rid of row of empty lists in google\n",
    "\n",
    "tmdb_movies_df.drop(tmdb_movies_df[tmdb_movies_df['genre_ids'] == '[]'].index, inplace = True)"
   ]
  },
  {
   "cell_type": "code",
   "execution_count": 7,
   "metadata": {},
   "outputs": [],
   "source": [
    "## going to try and create a column for each genre based on the list and then populate it with boolean for the particular film\n",
    "## start going to make a dictionary of the codes, then going to loop through, each loop creates a column and populates it\n",
    "\n",
    "genre_dict = {28:'Action', 12: 'Adventure', 16: 'Animation', 35: 'Comedy', 80:'Crime', 99:'Documentary',18:'Drama', 10751:'Family',\n",
    "              14:'Fantasy', 36: 'History', 27:'Horror', 10402:'Music', 9648:'Mystery', 10749:'Romance', 878:'Science Fiction',\n",
    "              53:'Thriller', 10752:'War',37:'Western'}\n",
    "#didn't include TV Movie category since we don't care about those (may want to filter them out...)"
   ]
  },
  {
   "cell_type": "code",
   "execution_count": 8,
   "metadata": {},
   "outputs": [],
   "source": [
    "# clears out the tv movies \n",
    "tmdb_movies_df.drop(tmdb_movies_df.loc[tmdb_movies_df['genre_ids'].str.contains('10770')].index, inplace = True)"
   ]
  },
  {
   "cell_type": "code",
   "execution_count": 9,
   "metadata": {},
   "outputs": [],
   "source": [
    "## creates new columns with True/False values\n",
    "\n",
    "for key, value in genre_dict.items():\n",
    "    tmdb_movies_df[value] = tmdb_movies_df['genre_ids'].str.contains(str(key))"
   ]
  },
  {
   "cell_type": "markdown",
   "metadata": {},
   "source": [
    "## QUESTIONS FOR TEACHERS ##"
   ]
  },
  {
   "cell_type": "markdown",
   "metadata": {},
   "source": [
    "- WHy is the GitHub notebook so different from the \"live\" version?\n",
    "- How to get regular expression to work? \n",
    "- What kind of graph are good to show a category with multiple values aka genre - stacked bar chart?"
   ]
  },
  {
   "cell_type": "markdown",
   "metadata": {},
   "source": [
    "## INVESTIGATION GOALS ##\n",
    "\n",
    "- Alex: genre by profit or genre by likes, if possible some kind of stacked bar chart, What kinds of films are popular? \n",
    "- Patrick: production budget v profit - gross vs foreign, possibly incorporating genre, What films are the most profitable? \n",
    "- Jennifer: genre over **time** - aka What's being made? What studio is making what?"
   ]
  },
  {
   "cell_type": "markdown",
   "metadata": {},
   "source": [
    "Checking out which columns have problamatic null values."
   ]
  },
  {
   "cell_type": "code",
   "execution_count": 10,
   "metadata": {
    "scrolled": true
   },
   "outputs": [
    {
     "name": "stdout",
     "output_type": "stream",
     "text": [
      "<class 'pandas.core.frame.DataFrame'>\n",
      "RangeIndex: 146144 entries, 0 to 146143\n",
      "Data columns (total 6 columns):\n",
      " #   Column           Non-Null Count   Dtype  \n",
      "---  ------           --------------   -----  \n",
      " 0   tconst           146144 non-null  object \n",
      " 1   primary_title    146144 non-null  object \n",
      " 2   original_title   146123 non-null  object \n",
      " 3   start_year       146144 non-null  int64  \n",
      " 4   runtime_minutes  114405 non-null  float64\n",
      " 5   genres           140736 non-null  object \n",
      "dtypes: float64(1), int64(1), object(4)\n",
      "memory usage: 6.7+ MB\n"
     ]
    }
   ],
   "source": [
    "imdb_title_basics_df.info()\n"
   ]
  },
  {
   "cell_type": "markdown",
   "metadata": {},
   "source": [
    "We decided to keep the rows with null values in runtime_minutes just in case the column is useful later. I will replace the NaN with zeros. If need be we can change them later to something more relevant."
   ]
  },
  {
   "cell_type": "code",
   "execution_count": 11,
   "metadata": {},
   "outputs": [],
   "source": [
    "imdb_title_basics_df['runtime_minutes'].fillna(0, inplace = True)"
   ]
  },
  {
   "cell_type": "code",
   "execution_count": 12,
   "metadata": {},
   "outputs": [
    {
     "name": "stdout",
     "output_type": "stream",
     "text": [
      "<class 'pandas.core.frame.DataFrame'>\n",
      "RangeIndex: 146144 entries, 0 to 146143\n",
      "Data columns (total 6 columns):\n",
      " #   Column           Non-Null Count   Dtype  \n",
      "---  ------           --------------   -----  \n",
      " 0   tconst           146144 non-null  object \n",
      " 1   primary_title    146144 non-null  object \n",
      " 2   original_title   146123 non-null  object \n",
      " 3   start_year       146144 non-null  int64  \n",
      " 4   runtime_minutes  146144 non-null  float64\n",
      " 5   genres           140736 non-null  object \n",
      "dtypes: float64(1), int64(1), object(4)\n",
      "memory usage: 6.7+ MB\n"
     ]
    }
   ],
   "source": [
    "imdb_title_basics_df.info()"
   ]
  },
  {
   "cell_type": "markdown",
   "metadata": {},
   "source": [
    "I decided to drop the rows in genres with NaN because the amount of rows was a small percentage of the overall dataset. "
   ]
  },
  {
   "cell_type": "code",
   "execution_count": 13,
   "metadata": {},
   "outputs": [],
   "source": [
    "imdb_title_basics_df = imdb_title_basics_df.dropna(subset = ['genres'])"
   ]
  },
  {
   "cell_type": "markdown",
   "metadata": {},
   "source": [
    "I will replace the null values in original_title to 0. There are so few I don't expect it to be an issues. We also may end up not needing this column."
   ]
  },
  {
   "cell_type": "code",
   "execution_count": 14,
   "metadata": {},
   "outputs": [],
   "source": [
    "imdb_title_basics_df['original_title'].fillna(0, inplace = True)"
   ]
  },
  {
   "cell_type": "code",
   "execution_count": 15,
   "metadata": {},
   "outputs": [
    {
     "name": "stdout",
     "output_type": "stream",
     "text": [
      "<class 'pandas.core.frame.DataFrame'>\n",
      "Int64Index: 140736 entries, 0 to 146143\n",
      "Data columns (total 6 columns):\n",
      " #   Column           Non-Null Count   Dtype  \n",
      "---  ------           --------------   -----  \n",
      " 0   tconst           140736 non-null  object \n",
      " 1   primary_title    140736 non-null  object \n",
      " 2   original_title   140736 non-null  object \n",
      " 3   start_year       140736 non-null  int64  \n",
      " 4   runtime_minutes  140736 non-null  float64\n",
      " 5   genres           140736 non-null  object \n",
      "dtypes: float64(1), int64(1), object(4)\n",
      "memory usage: 7.5+ MB\n"
     ]
    }
   ],
   "source": [
    "imdb_title_basics_df.info()"
   ]
  },
  {
   "cell_type": "markdown",
   "metadata": {},
   "source": [
    "I need to make a dictionary to compare genre values to in order to split them up"
   ]
  },
  {
   "cell_type": "code",
   "execution_count": 16,
   "metadata": {},
   "outputs": [],
   "source": [
    "genre_list = imdb_title_basics_df['genres'].unique().tolist()"
   ]
  },
  {
   "cell_type": "code",
   "execution_count": 17,
   "metadata": {},
   "outputs": [],
   "source": [
    "genre_list_2 = []\n",
    "genre_list_3 = []\n",
    "for x in genre_list:\n",
    "    genre_list_2.append(x.split(sep = ','))\n",
    "    "
   ]
  },
  {
   "cell_type": "code",
   "execution_count": 18,
   "metadata": {},
   "outputs": [],
   "source": [
    "for x in genre_list_2:\n",
    "    for y in x:\n",
    "        genre_list_3.append(y)"
   ]
  },
  {
   "cell_type": "code",
   "execution_count": 19,
   "metadata": {},
   "outputs": [],
   "source": [
    "genre_dict = pd.unique(genre_list_3)"
   ]
  },
  {
   "cell_type": "code",
   "execution_count": 20,
   "metadata": {},
   "outputs": [],
   "source": [
    "genre_dict = genre_dict.tolist()"
   ]
  },
  {
   "cell_type": "code",
   "execution_count": 21,
   "metadata": {},
   "outputs": [
    {
     "data": {
      "text/plain": [
       "['Action',\n",
       " 'Crime',\n",
       " 'Drama',\n",
       " 'Biography',\n",
       " 'Comedy',\n",
       " 'Fantasy',\n",
       " 'Horror',\n",
       " 'Thriller',\n",
       " 'Adventure',\n",
       " 'Animation',\n",
       " 'Documentary',\n",
       " 'History',\n",
       " 'Mystery',\n",
       " 'Sci-Fi',\n",
       " 'Romance',\n",
       " 'Family',\n",
       " 'War',\n",
       " 'Music',\n",
       " 'Sport',\n",
       " 'Western',\n",
       " 'Musical',\n",
       " 'Adult',\n",
       " 'News',\n",
       " 'Talk-Show',\n",
       " 'Reality-TV',\n",
       " 'Game-Show',\n",
       " 'Short']"
      ]
     },
     "execution_count": 21,
     "metadata": {},
     "output_type": "execute_result"
    }
   ],
   "source": [
    "genre_dict"
   ]
  },
  {
   "cell_type": "code",
   "execution_count": 22,
   "metadata": {},
   "outputs": [
    {
     "data": {
      "text/plain": [
       "27"
      ]
     },
     "execution_count": 22,
     "metadata": {},
     "output_type": "execute_result"
    }
   ],
   "source": [
    "len(genre_dict)"
   ]
  },
  {
   "cell_type": "code",
   "execution_count": 23,
   "metadata": {},
   "outputs": [],
   "source": [
    "delete_list = ['Short','Game-Show','Talk-Show','Reality-TV']"
   ]
  },
  {
   "cell_type": "markdown",
   "metadata": {},
   "source": [
    "I'm going to drop any row that has values matching Talk-Show, Reality-TV, Game-Show, and Short. There are not many rows with these values and they are not applicaple to our analysis. "
   ]
  },
  {
   "cell_type": "code",
   "execution_count": 24,
   "metadata": {},
   "outputs": [],
   "source": [
    "#short_drop = imdb_title_basics_df.loc[imdb_title_basics_df['genres'].str.contains('Short')].index\n",
    "#game_show_drop = imdb_title_basics_df.loc[imdb_title_basics_df['genres'].str.contains('Game-Show')].index\n",
    "#talk_show_drop = imdb_title_basics_df[imdb_title_basics_df['genres'].str.contains('Talk-Show')].index\n",
    "#reality_tv_drop = imdb_title_basics_df[imdb_title_basics_df['genres'].str.contains('Reality-TV')].index\n"
   ]
  },
  {
   "cell_type": "code",
   "execution_count": 25,
   "metadata": {},
   "outputs": [],
   "source": [
    "for x in delete_list:\n",
    "    imdb_title_basics_df.drop(imdb_title_basics_df.loc[imdb_title_basics_df['genres'].str.contains(x)].index, inplace = True)"
   ]
  },
  {
   "cell_type": "code",
   "execution_count": 26,
   "metadata": {},
   "outputs": [],
   "source": [
    "#imdb_title_basics_df.drop(imdb_title_basics_df.loc[imdb_title_basics_df['genres'].str.contains('Short')].index, inplace = True)\n",
    "#imdb_title_basics_df.drop(imdb_title_basics_df.loc[imdb_title_basics_df['genres'].str.contains('Game-Show')].index, inplace = True)\n",
    "#imdb_title_basics_df.drop(imdb_title_basics_df.loc[imdb_title_basics_df['genres'].str.contains('Talk-Show')].index, inplace = True)\n",
    "#imdb_title_basics_df.drop(imdb_title_basics_df.loc[imdb_title_basics_df['genres'].str.contains('Reality-TV')].index, inplace = True)\n"
   ]
  },
  {
   "cell_type": "code",
   "execution_count": 27,
   "metadata": {},
   "outputs": [],
   "source": [
    "for x in genre_dict:\n",
    "    imdb_title_basics_df[x] = imdb_title_basics_df['genres'].str.contains(str(x))"
   ]
  },
  {
   "cell_type": "code",
   "execution_count": 28,
   "metadata": {},
   "outputs": [],
   "source": [
    "imdb_title_basics_df.rename(columns = {'Sci-Fi':'Science Fiction' }, inplace = True)"
   ]
  },
  {
   "cell_type": "code",
   "execution_count": 29,
   "metadata": {},
   "outputs": [
    {
     "data": {
      "text/html": [
       "<div>\n",
       "<style scoped>\n",
       "    .dataframe tbody tr th:only-of-type {\n",
       "        vertical-align: middle;\n",
       "    }\n",
       "\n",
       "    .dataframe tbody tr th {\n",
       "        vertical-align: top;\n",
       "    }\n",
       "\n",
       "    .dataframe thead th {\n",
       "        text-align: right;\n",
       "    }\n",
       "</style>\n",
       "<table border=\"1\" class=\"dataframe\">\n",
       "  <thead>\n",
       "    <tr style=\"text-align: right;\">\n",
       "      <th></th>\n",
       "      <th>tconst</th>\n",
       "      <th>primary_title</th>\n",
       "      <th>original_title</th>\n",
       "      <th>start_year</th>\n",
       "      <th>runtime_minutes</th>\n",
       "      <th>genres</th>\n",
       "      <th>Action</th>\n",
       "      <th>Crime</th>\n",
       "      <th>Drama</th>\n",
       "      <th>Biography</th>\n",
       "      <th>...</th>\n",
       "      <th>Music</th>\n",
       "      <th>Sport</th>\n",
       "      <th>Western</th>\n",
       "      <th>Musical</th>\n",
       "      <th>Adult</th>\n",
       "      <th>News</th>\n",
       "      <th>Talk-Show</th>\n",
       "      <th>Reality-TV</th>\n",
       "      <th>Game-Show</th>\n",
       "      <th>Short</th>\n",
       "    </tr>\n",
       "  </thead>\n",
       "  <tbody>\n",
       "    <tr>\n",
       "      <th>0</th>\n",
       "      <td>tt0063540</td>\n",
       "      <td>Sunghursh</td>\n",
       "      <td>Sunghursh</td>\n",
       "      <td>2013</td>\n",
       "      <td>175.00000</td>\n",
       "      <td>Action,Crime,Drama</td>\n",
       "      <td>True</td>\n",
       "      <td>True</td>\n",
       "      <td>True</td>\n",
       "      <td>False</td>\n",
       "      <td>...</td>\n",
       "      <td>False</td>\n",
       "      <td>False</td>\n",
       "      <td>False</td>\n",
       "      <td>False</td>\n",
       "      <td>False</td>\n",
       "      <td>False</td>\n",
       "      <td>False</td>\n",
       "      <td>False</td>\n",
       "      <td>False</td>\n",
       "      <td>False</td>\n",
       "    </tr>\n",
       "    <tr>\n",
       "      <th>1</th>\n",
       "      <td>tt0066787</td>\n",
       "      <td>One Day Before the Rainy Season</td>\n",
       "      <td>Ashad Ka Ek Din</td>\n",
       "      <td>2019</td>\n",
       "      <td>114.00000</td>\n",
       "      <td>Biography,Drama</td>\n",
       "      <td>False</td>\n",
       "      <td>False</td>\n",
       "      <td>True</td>\n",
       "      <td>True</td>\n",
       "      <td>...</td>\n",
       "      <td>False</td>\n",
       "      <td>False</td>\n",
       "      <td>False</td>\n",
       "      <td>False</td>\n",
       "      <td>False</td>\n",
       "      <td>False</td>\n",
       "      <td>False</td>\n",
       "      <td>False</td>\n",
       "      <td>False</td>\n",
       "      <td>False</td>\n",
       "    </tr>\n",
       "    <tr>\n",
       "      <th>2</th>\n",
       "      <td>tt0069049</td>\n",
       "      <td>The Other Side of the Wind</td>\n",
       "      <td>The Other Side of the Wind</td>\n",
       "      <td>2018</td>\n",
       "      <td>122.00000</td>\n",
       "      <td>Drama</td>\n",
       "      <td>False</td>\n",
       "      <td>False</td>\n",
       "      <td>True</td>\n",
       "      <td>False</td>\n",
       "      <td>...</td>\n",
       "      <td>False</td>\n",
       "      <td>False</td>\n",
       "      <td>False</td>\n",
       "      <td>False</td>\n",
       "      <td>False</td>\n",
       "      <td>False</td>\n",
       "      <td>False</td>\n",
       "      <td>False</td>\n",
       "      <td>False</td>\n",
       "      <td>False</td>\n",
       "    </tr>\n",
       "    <tr>\n",
       "      <th>3</th>\n",
       "      <td>tt0069204</td>\n",
       "      <td>Sabse Bada Sukh</td>\n",
       "      <td>Sabse Bada Sukh</td>\n",
       "      <td>2018</td>\n",
       "      <td>0.00000</td>\n",
       "      <td>Comedy,Drama</td>\n",
       "      <td>False</td>\n",
       "      <td>False</td>\n",
       "      <td>True</td>\n",
       "      <td>False</td>\n",
       "      <td>...</td>\n",
       "      <td>False</td>\n",
       "      <td>False</td>\n",
       "      <td>False</td>\n",
       "      <td>False</td>\n",
       "      <td>False</td>\n",
       "      <td>False</td>\n",
       "      <td>False</td>\n",
       "      <td>False</td>\n",
       "      <td>False</td>\n",
       "      <td>False</td>\n",
       "    </tr>\n",
       "    <tr>\n",
       "      <th>4</th>\n",
       "      <td>tt0100275</td>\n",
       "      <td>The Wandering Soap Opera</td>\n",
       "      <td>La Telenovela Errante</td>\n",
       "      <td>2017</td>\n",
       "      <td>80.00000</td>\n",
       "      <td>Comedy,Drama,Fantasy</td>\n",
       "      <td>False</td>\n",
       "      <td>False</td>\n",
       "      <td>True</td>\n",
       "      <td>False</td>\n",
       "      <td>...</td>\n",
       "      <td>False</td>\n",
       "      <td>False</td>\n",
       "      <td>False</td>\n",
       "      <td>False</td>\n",
       "      <td>False</td>\n",
       "      <td>False</td>\n",
       "      <td>False</td>\n",
       "      <td>False</td>\n",
       "      <td>False</td>\n",
       "      <td>False</td>\n",
       "    </tr>\n",
       "  </tbody>\n",
       "</table>\n",
       "<p>5 rows × 33 columns</p>\n",
       "</div>"
      ],
      "text/plain": [
       "      tconst                    primary_title              original_title  \\\n",
       "0  tt0063540                        Sunghursh                   Sunghursh   \n",
       "1  tt0066787  One Day Before the Rainy Season             Ashad Ka Ek Din   \n",
       "2  tt0069049       The Other Side of the Wind  The Other Side of the Wind   \n",
       "3  tt0069204                  Sabse Bada Sukh             Sabse Bada Sukh   \n",
       "4  tt0100275         The Wandering Soap Opera       La Telenovela Errante   \n",
       "\n",
       "   start_year  runtime_minutes                genres  Action  Crime  Drama  \\\n",
       "0        2013        175.00000    Action,Crime,Drama    True   True   True   \n",
       "1        2019        114.00000       Biography,Drama   False  False   True   \n",
       "2        2018        122.00000                 Drama   False  False   True   \n",
       "3        2018          0.00000          Comedy,Drama   False  False   True   \n",
       "4        2017         80.00000  Comedy,Drama,Fantasy   False  False   True   \n",
       "\n",
       "   Biography  ...  Music  Sport  Western  Musical  Adult   News  Talk-Show  \\\n",
       "0      False  ...  False  False    False    False  False  False      False   \n",
       "1       True  ...  False  False    False    False  False  False      False   \n",
       "2      False  ...  False  False    False    False  False  False      False   \n",
       "3      False  ...  False  False    False    False  False  False      False   \n",
       "4      False  ...  False  False    False    False  False  False      False   \n",
       "\n",
       "   Reality-TV  Game-Show  Short  \n",
       "0       False      False  False  \n",
       "1       False      False  False  \n",
       "2       False      False  False  \n",
       "3       False      False  False  \n",
       "4       False      False  False  \n",
       "\n",
       "[5 rows x 33 columns]"
      ]
     },
     "execution_count": 29,
     "metadata": {},
     "output_type": "execute_result"
    }
   ],
   "source": [
    "imdb_title_basics_df.head()"
   ]
  },
  {
   "cell_type": "code",
   "execution_count": 30,
   "metadata": {},
   "outputs": [
    {
     "data": {
      "text/plain": [
       "0         False\n",
       "1         False\n",
       "2         False\n",
       "3         False\n",
       "4         False\n",
       "          ...  \n",
       "146138    False\n",
       "146139    False\n",
       "146140    False\n",
       "146141    False\n",
       "146143    False\n",
       "Name: Short, Length: 140575, dtype: bool"
      ]
     },
     "execution_count": 30,
     "metadata": {},
     "output_type": "execute_result"
    }
   ],
   "source": [
    "imdb_title_basics_df.pop('Short')"
   ]
  },
  {
   "cell_type": "code",
   "execution_count": 31,
   "metadata": {},
   "outputs": [
    {
     "data": {
      "text/html": [
       "<div>\n",
       "<style scoped>\n",
       "    .dataframe tbody tr th:only-of-type {\n",
       "        vertical-align: middle;\n",
       "    }\n",
       "\n",
       "    .dataframe tbody tr th {\n",
       "        vertical-align: top;\n",
       "    }\n",
       "\n",
       "    .dataframe thead th {\n",
       "        text-align: right;\n",
       "    }\n",
       "</style>\n",
       "<table border=\"1\" class=\"dataframe\">\n",
       "  <thead>\n",
       "    <tr style=\"text-align: right;\">\n",
       "      <th></th>\n",
       "      <th>tconst</th>\n",
       "      <th>primary_title</th>\n",
       "      <th>original_title</th>\n",
       "      <th>start_year</th>\n",
       "      <th>runtime_minutes</th>\n",
       "      <th>genres</th>\n",
       "      <th>Action</th>\n",
       "      <th>Crime</th>\n",
       "      <th>Drama</th>\n",
       "      <th>Biography</th>\n",
       "      <th>...</th>\n",
       "      <th>War</th>\n",
       "      <th>Music</th>\n",
       "      <th>Sport</th>\n",
       "      <th>Western</th>\n",
       "      <th>Musical</th>\n",
       "      <th>Adult</th>\n",
       "      <th>News</th>\n",
       "      <th>Talk-Show</th>\n",
       "      <th>Reality-TV</th>\n",
       "      <th>Game-Show</th>\n",
       "    </tr>\n",
       "  </thead>\n",
       "  <tbody>\n",
       "    <tr>\n",
       "      <th>0</th>\n",
       "      <td>tt0063540</td>\n",
       "      <td>Sunghursh</td>\n",
       "      <td>Sunghursh</td>\n",
       "      <td>2013</td>\n",
       "      <td>175.00000</td>\n",
       "      <td>Action,Crime,Drama</td>\n",
       "      <td>True</td>\n",
       "      <td>True</td>\n",
       "      <td>True</td>\n",
       "      <td>False</td>\n",
       "      <td>...</td>\n",
       "      <td>False</td>\n",
       "      <td>False</td>\n",
       "      <td>False</td>\n",
       "      <td>False</td>\n",
       "      <td>False</td>\n",
       "      <td>False</td>\n",
       "      <td>False</td>\n",
       "      <td>False</td>\n",
       "      <td>False</td>\n",
       "      <td>False</td>\n",
       "    </tr>\n",
       "    <tr>\n",
       "      <th>1</th>\n",
       "      <td>tt0066787</td>\n",
       "      <td>One Day Before the Rainy Season</td>\n",
       "      <td>Ashad Ka Ek Din</td>\n",
       "      <td>2019</td>\n",
       "      <td>114.00000</td>\n",
       "      <td>Biography,Drama</td>\n",
       "      <td>False</td>\n",
       "      <td>False</td>\n",
       "      <td>True</td>\n",
       "      <td>True</td>\n",
       "      <td>...</td>\n",
       "      <td>False</td>\n",
       "      <td>False</td>\n",
       "      <td>False</td>\n",
       "      <td>False</td>\n",
       "      <td>False</td>\n",
       "      <td>False</td>\n",
       "      <td>False</td>\n",
       "      <td>False</td>\n",
       "      <td>False</td>\n",
       "      <td>False</td>\n",
       "    </tr>\n",
       "    <tr>\n",
       "      <th>2</th>\n",
       "      <td>tt0069049</td>\n",
       "      <td>The Other Side of the Wind</td>\n",
       "      <td>The Other Side of the Wind</td>\n",
       "      <td>2018</td>\n",
       "      <td>122.00000</td>\n",
       "      <td>Drama</td>\n",
       "      <td>False</td>\n",
       "      <td>False</td>\n",
       "      <td>True</td>\n",
       "      <td>False</td>\n",
       "      <td>...</td>\n",
       "      <td>False</td>\n",
       "      <td>False</td>\n",
       "      <td>False</td>\n",
       "      <td>False</td>\n",
       "      <td>False</td>\n",
       "      <td>False</td>\n",
       "      <td>False</td>\n",
       "      <td>False</td>\n",
       "      <td>False</td>\n",
       "      <td>False</td>\n",
       "    </tr>\n",
       "    <tr>\n",
       "      <th>3</th>\n",
       "      <td>tt0069204</td>\n",
       "      <td>Sabse Bada Sukh</td>\n",
       "      <td>Sabse Bada Sukh</td>\n",
       "      <td>2018</td>\n",
       "      <td>0.00000</td>\n",
       "      <td>Comedy,Drama</td>\n",
       "      <td>False</td>\n",
       "      <td>False</td>\n",
       "      <td>True</td>\n",
       "      <td>False</td>\n",
       "      <td>...</td>\n",
       "      <td>False</td>\n",
       "      <td>False</td>\n",
       "      <td>False</td>\n",
       "      <td>False</td>\n",
       "      <td>False</td>\n",
       "      <td>False</td>\n",
       "      <td>False</td>\n",
       "      <td>False</td>\n",
       "      <td>False</td>\n",
       "      <td>False</td>\n",
       "    </tr>\n",
       "    <tr>\n",
       "      <th>4</th>\n",
       "      <td>tt0100275</td>\n",
       "      <td>The Wandering Soap Opera</td>\n",
       "      <td>La Telenovela Errante</td>\n",
       "      <td>2017</td>\n",
       "      <td>80.00000</td>\n",
       "      <td>Comedy,Drama,Fantasy</td>\n",
       "      <td>False</td>\n",
       "      <td>False</td>\n",
       "      <td>True</td>\n",
       "      <td>False</td>\n",
       "      <td>...</td>\n",
       "      <td>False</td>\n",
       "      <td>False</td>\n",
       "      <td>False</td>\n",
       "      <td>False</td>\n",
       "      <td>False</td>\n",
       "      <td>False</td>\n",
       "      <td>False</td>\n",
       "      <td>False</td>\n",
       "      <td>False</td>\n",
       "      <td>False</td>\n",
       "    </tr>\n",
       "  </tbody>\n",
       "</table>\n",
       "<p>5 rows × 32 columns</p>\n",
       "</div>"
      ],
      "text/plain": [
       "      tconst                    primary_title              original_title  \\\n",
       "0  tt0063540                        Sunghursh                   Sunghursh   \n",
       "1  tt0066787  One Day Before the Rainy Season             Ashad Ka Ek Din   \n",
       "2  tt0069049       The Other Side of the Wind  The Other Side of the Wind   \n",
       "3  tt0069204                  Sabse Bada Sukh             Sabse Bada Sukh   \n",
       "4  tt0100275         The Wandering Soap Opera       La Telenovela Errante   \n",
       "\n",
       "   start_year  runtime_minutes                genres  Action  Crime  Drama  \\\n",
       "0        2013        175.00000    Action,Crime,Drama    True   True   True   \n",
       "1        2019        114.00000       Biography,Drama   False  False   True   \n",
       "2        2018        122.00000                 Drama   False  False   True   \n",
       "3        2018          0.00000          Comedy,Drama   False  False   True   \n",
       "4        2017         80.00000  Comedy,Drama,Fantasy   False  False   True   \n",
       "\n",
       "   Biography  ...    War  Music  Sport  Western  Musical  Adult   News  \\\n",
       "0      False  ...  False  False  False    False    False  False  False   \n",
       "1       True  ...  False  False  False    False    False  False  False   \n",
       "2      False  ...  False  False  False    False    False  False  False   \n",
       "3      False  ...  False  False  False    False    False  False  False   \n",
       "4      False  ...  False  False  False    False    False  False  False   \n",
       "\n",
       "   Talk-Show  Reality-TV  Game-Show  \n",
       "0      False       False      False  \n",
       "1      False       False      False  \n",
       "2      False       False      False  \n",
       "3      False       False      False  \n",
       "4      False       False      False  \n",
       "\n",
       "[5 rows x 32 columns]"
      ]
     },
     "execution_count": 31,
     "metadata": {},
     "output_type": "execute_result"
    }
   ],
   "source": [
    "imdb_title_basics_df.head()"
   ]
  },
  {
   "cell_type": "code",
   "execution_count": 32,
   "metadata": {},
   "outputs": [
    {
     "data": {
      "text/plain": [
       "0         False\n",
       "1         False\n",
       "2         False\n",
       "3         False\n",
       "4         False\n",
       "          ...  \n",
       "146138    False\n",
       "146139    False\n",
       "146140    False\n",
       "146141    False\n",
       "146143    False\n",
       "Name: Game-Show, Length: 140575, dtype: bool"
      ]
     },
     "execution_count": 32,
     "metadata": {},
     "output_type": "execute_result"
    }
   ],
   "source": [
    "imdb_title_basics_df.pop('Game-Show')"
   ]
  },
  {
   "cell_type": "code",
   "execution_count": 33,
   "metadata": {},
   "outputs": [
    {
     "data": {
      "text/plain": [
       "0         False\n",
       "1         False\n",
       "2         False\n",
       "3         False\n",
       "4         False\n",
       "          ...  \n",
       "146138    False\n",
       "146139    False\n",
       "146140    False\n",
       "146141    False\n",
       "146143    False\n",
       "Name: Reality-TV, Length: 140575, dtype: bool"
      ]
     },
     "execution_count": 33,
     "metadata": {},
     "output_type": "execute_result"
    }
   ],
   "source": [
    "imdb_title_basics_df.pop('Reality-TV')"
   ]
  },
  {
   "cell_type": "code",
   "execution_count": 34,
   "metadata": {},
   "outputs": [
    {
     "data": {
      "text/plain": [
       "0         False\n",
       "1         False\n",
       "2         False\n",
       "3         False\n",
       "4         False\n",
       "          ...  \n",
       "146138    False\n",
       "146139    False\n",
       "146140    False\n",
       "146141    False\n",
       "146143    False\n",
       "Name: Talk-Show, Length: 140575, dtype: bool"
      ]
     },
     "execution_count": 34,
     "metadata": {},
     "output_type": "execute_result"
    }
   ],
   "source": [
    "imdb_title_basics_df.pop('Talk-Show')"
   ]
  },
  {
   "cell_type": "markdown",
   "metadata": {},
   "source": [
    "We decided to drop any films that are to be made in the future as this will not help in any of our projections."
   ]
  },
  {
   "cell_type": "code",
   "execution_count": 35,
   "metadata": {},
   "outputs": [],
   "source": [
    "imdb_title_basics_df.drop(imdb_title_basics_df[imdb_title_basics_df['start_year'] > 2021].index, inplace = True)\n"
   ]
  },
  {
   "cell_type": "code",
   "execution_count": 36,
   "metadata": {},
   "outputs": [
    {
     "data": {
      "text/html": [
       "<div>\n",
       "<style scoped>\n",
       "    .dataframe tbody tr th:only-of-type {\n",
       "        vertical-align: middle;\n",
       "    }\n",
       "\n",
       "    .dataframe tbody tr th {\n",
       "        vertical-align: top;\n",
       "    }\n",
       "\n",
       "    .dataframe thead th {\n",
       "        text-align: right;\n",
       "    }\n",
       "</style>\n",
       "<table border=\"1\" class=\"dataframe\">\n",
       "  <thead>\n",
       "    <tr style=\"text-align: right;\">\n",
       "      <th></th>\n",
       "      <th>tconst</th>\n",
       "      <th>primary_title</th>\n",
       "      <th>original_title</th>\n",
       "      <th>start_year</th>\n",
       "      <th>runtime_minutes</th>\n",
       "      <th>genres</th>\n",
       "      <th>Action</th>\n",
       "      <th>Crime</th>\n",
       "      <th>Drama</th>\n",
       "      <th>Biography</th>\n",
       "      <th>...</th>\n",
       "      <th>Science Fiction</th>\n",
       "      <th>Romance</th>\n",
       "      <th>Family</th>\n",
       "      <th>War</th>\n",
       "      <th>Music</th>\n",
       "      <th>Sport</th>\n",
       "      <th>Western</th>\n",
       "      <th>Musical</th>\n",
       "      <th>Adult</th>\n",
       "      <th>News</th>\n",
       "    </tr>\n",
       "  </thead>\n",
       "  <tbody>\n",
       "    <tr>\n",
       "      <th>0</th>\n",
       "      <td>tt0063540</td>\n",
       "      <td>Sunghursh</td>\n",
       "      <td>Sunghursh</td>\n",
       "      <td>2013</td>\n",
       "      <td>175.00000</td>\n",
       "      <td>Action,Crime,Drama</td>\n",
       "      <td>True</td>\n",
       "      <td>True</td>\n",
       "      <td>True</td>\n",
       "      <td>False</td>\n",
       "      <td>...</td>\n",
       "      <td>False</td>\n",
       "      <td>False</td>\n",
       "      <td>False</td>\n",
       "      <td>False</td>\n",
       "      <td>False</td>\n",
       "      <td>False</td>\n",
       "      <td>False</td>\n",
       "      <td>False</td>\n",
       "      <td>False</td>\n",
       "      <td>False</td>\n",
       "    </tr>\n",
       "    <tr>\n",
       "      <th>1</th>\n",
       "      <td>tt0066787</td>\n",
       "      <td>One Day Before the Rainy Season</td>\n",
       "      <td>Ashad Ka Ek Din</td>\n",
       "      <td>2019</td>\n",
       "      <td>114.00000</td>\n",
       "      <td>Biography,Drama</td>\n",
       "      <td>False</td>\n",
       "      <td>False</td>\n",
       "      <td>True</td>\n",
       "      <td>True</td>\n",
       "      <td>...</td>\n",
       "      <td>False</td>\n",
       "      <td>False</td>\n",
       "      <td>False</td>\n",
       "      <td>False</td>\n",
       "      <td>False</td>\n",
       "      <td>False</td>\n",
       "      <td>False</td>\n",
       "      <td>False</td>\n",
       "      <td>False</td>\n",
       "      <td>False</td>\n",
       "    </tr>\n",
       "    <tr>\n",
       "      <th>2</th>\n",
       "      <td>tt0069049</td>\n",
       "      <td>The Other Side of the Wind</td>\n",
       "      <td>The Other Side of the Wind</td>\n",
       "      <td>2018</td>\n",
       "      <td>122.00000</td>\n",
       "      <td>Drama</td>\n",
       "      <td>False</td>\n",
       "      <td>False</td>\n",
       "      <td>True</td>\n",
       "      <td>False</td>\n",
       "      <td>...</td>\n",
       "      <td>False</td>\n",
       "      <td>False</td>\n",
       "      <td>False</td>\n",
       "      <td>False</td>\n",
       "      <td>False</td>\n",
       "      <td>False</td>\n",
       "      <td>False</td>\n",
       "      <td>False</td>\n",
       "      <td>False</td>\n",
       "      <td>False</td>\n",
       "    </tr>\n",
       "    <tr>\n",
       "      <th>3</th>\n",
       "      <td>tt0069204</td>\n",
       "      <td>Sabse Bada Sukh</td>\n",
       "      <td>Sabse Bada Sukh</td>\n",
       "      <td>2018</td>\n",
       "      <td>0.00000</td>\n",
       "      <td>Comedy,Drama</td>\n",
       "      <td>False</td>\n",
       "      <td>False</td>\n",
       "      <td>True</td>\n",
       "      <td>False</td>\n",
       "      <td>...</td>\n",
       "      <td>False</td>\n",
       "      <td>False</td>\n",
       "      <td>False</td>\n",
       "      <td>False</td>\n",
       "      <td>False</td>\n",
       "      <td>False</td>\n",
       "      <td>False</td>\n",
       "      <td>False</td>\n",
       "      <td>False</td>\n",
       "      <td>False</td>\n",
       "    </tr>\n",
       "    <tr>\n",
       "      <th>4</th>\n",
       "      <td>tt0100275</td>\n",
       "      <td>The Wandering Soap Opera</td>\n",
       "      <td>La Telenovela Errante</td>\n",
       "      <td>2017</td>\n",
       "      <td>80.00000</td>\n",
       "      <td>Comedy,Drama,Fantasy</td>\n",
       "      <td>False</td>\n",
       "      <td>False</td>\n",
       "      <td>True</td>\n",
       "      <td>False</td>\n",
       "      <td>...</td>\n",
       "      <td>False</td>\n",
       "      <td>False</td>\n",
       "      <td>False</td>\n",
       "      <td>False</td>\n",
       "      <td>False</td>\n",
       "      <td>False</td>\n",
       "      <td>False</td>\n",
       "      <td>False</td>\n",
       "      <td>False</td>\n",
       "      <td>False</td>\n",
       "    </tr>\n",
       "  </tbody>\n",
       "</table>\n",
       "<p>5 rows × 29 columns</p>\n",
       "</div>"
      ],
      "text/plain": [
       "      tconst                    primary_title              original_title  \\\n",
       "0  tt0063540                        Sunghursh                   Sunghursh   \n",
       "1  tt0066787  One Day Before the Rainy Season             Ashad Ka Ek Din   \n",
       "2  tt0069049       The Other Side of the Wind  The Other Side of the Wind   \n",
       "3  tt0069204                  Sabse Bada Sukh             Sabse Bada Sukh   \n",
       "4  tt0100275         The Wandering Soap Opera       La Telenovela Errante   \n",
       "\n",
       "   start_year  runtime_minutes                genres  Action  Crime  Drama  \\\n",
       "0        2013        175.00000    Action,Crime,Drama    True   True   True   \n",
       "1        2019        114.00000       Biography,Drama   False  False   True   \n",
       "2        2018        122.00000                 Drama   False  False   True   \n",
       "3        2018          0.00000          Comedy,Drama   False  False   True   \n",
       "4        2017         80.00000  Comedy,Drama,Fantasy   False  False   True   \n",
       "\n",
       "   Biography  ...  Science Fiction  Romance  Family    War  Music  Sport  \\\n",
       "0      False  ...            False    False   False  False  False  False   \n",
       "1       True  ...            False    False   False  False  False  False   \n",
       "2      False  ...            False    False   False  False  False  False   \n",
       "3      False  ...            False    False   False  False  False  False   \n",
       "4      False  ...            False    False   False  False  False  False   \n",
       "\n",
       "   Western  Musical  Adult   News  \n",
       "0    False    False  False  False  \n",
       "1    False    False  False  False  \n",
       "2    False    False  False  False  \n",
       "3    False    False  False  False  \n",
       "4    False    False  False  False  \n",
       "\n",
       "[5 rows x 29 columns]"
      ]
     },
     "execution_count": 36,
     "metadata": {},
     "output_type": "execute_result"
    }
   ],
   "source": [
    "imdb_title_basics_df.head()"
   ]
  },
  {
   "cell_type": "code",
   "execution_count": 37,
   "metadata": {},
   "outputs": [
    {
     "name": "stdout",
     "output_type": "stream",
     "text": [
      "<class 'pandas.core.frame.DataFrame'>\n",
      "Int64Index: 140544 entries, 0 to 146143\n",
      "Data columns (total 29 columns):\n",
      " #   Column           Non-Null Count   Dtype  \n",
      "---  ------           --------------   -----  \n",
      " 0   tconst           140544 non-null  object \n",
      " 1   primary_title    140544 non-null  object \n",
      " 2   original_title   140544 non-null  object \n",
      " 3   start_year       140544 non-null  int64  \n",
      " 4   runtime_minutes  140544 non-null  float64\n",
      " 5   genres           140544 non-null  object \n",
      " 6   Action           140544 non-null  bool   \n",
      " 7   Crime            140544 non-null  bool   \n",
      " 8   Drama            140544 non-null  bool   \n",
      " 9   Biography        140544 non-null  bool   \n",
      " 10  Comedy           140544 non-null  bool   \n",
      " 11  Fantasy          140544 non-null  bool   \n",
      " 12  Horror           140544 non-null  bool   \n",
      " 13  Thriller         140544 non-null  bool   \n",
      " 14  Adventure        140544 non-null  bool   \n",
      " 15  Animation        140544 non-null  bool   \n",
      " 16  Documentary      140544 non-null  bool   \n",
      " 17  History          140544 non-null  bool   \n",
      " 18  Mystery          140544 non-null  bool   \n",
      " 19  Science Fiction  140544 non-null  bool   \n",
      " 20  Romance          140544 non-null  bool   \n",
      " 21  Family           140544 non-null  bool   \n",
      " 22  War              140544 non-null  bool   \n",
      " 23  Music            140544 non-null  bool   \n",
      " 24  Sport            140544 non-null  bool   \n",
      " 25  Western          140544 non-null  bool   \n",
      " 26  Musical          140544 non-null  bool   \n",
      " 27  Adult            140544 non-null  bool   \n",
      " 28  News             140544 non-null  bool   \n",
      "dtypes: bool(23), float64(1), int64(1), object(4)\n",
      "memory usage: 10.6+ MB\n"
     ]
    }
   ],
   "source": [
    "imdb_title_basics_df.info()"
   ]
  },
  {
   "cell_type": "code",
   "execution_count": 38,
   "metadata": {},
   "outputs": [
    {
     "data": {
      "text/plain": [
       "2017    16794\n",
       "2016    16326\n",
       "2018    16270\n",
       "2015    15539\n",
       "2014    15083\n",
       "2013    14284\n",
       "2012    13346\n",
       "2011    12427\n",
       "2010    11442\n",
       "2019     8050\n",
       "2020      900\n",
       "2021       83\n",
       "Name: start_year, dtype: int64"
      ]
     },
     "execution_count": 38,
     "metadata": {},
     "output_type": "execute_result"
    }
   ],
   "source": [
    "imdb_title_basics_df['start_year'].value_counts()\n"
   ]
  },
  {
   "cell_type": "code",
   "execution_count": 39,
   "metadata": {},
   "outputs": [],
   "source": [
    "imdb_title_basics_csv = imdb_title_basics_df.to_csv('imdb_title_basics.csv', index = True)"
   ]
  },
  {
   "cell_type": "code",
   "execution_count": 40,
   "metadata": {},
   "outputs": [],
   "source": [
    "imdb_title_basics_csv"
   ]
  },
  {
   "cell_type": "code",
   "execution_count": 41,
   "metadata": {
    "scrolled": true
   },
   "outputs": [
    {
     "data": {
      "text/plain": [
       "Index(['tconst', 'primary_title', 'original_title', 'start_year',\n",
       "       'runtime_minutes', 'genres', 'Action', 'Crime', 'Drama', 'Biography',\n",
       "       'Comedy', 'Fantasy', 'Horror', 'Thriller', 'Adventure', 'Animation',\n",
       "       'Documentary', 'History', 'Mystery', 'Science Fiction', 'Romance',\n",
       "       'Family', 'War', 'Music', 'Sport', 'Western', 'Musical', 'Adult',\n",
       "       'News'],\n",
       "      dtype='object')"
      ]
     },
     "execution_count": 41,
     "metadata": {},
     "output_type": "execute_result"
    }
   ],
   "source": [
    "imdb_title_basics_df.columns"
   ]
  },
  {
   "cell_type": "code",
   "execution_count": 42,
   "metadata": {},
   "outputs": [
    {
     "data": {
      "text/plain": [
       "array([2013, 2019, 2018, 2017, 2012, 2010, 2011, 2015, 2021, 2016, 2014,\n",
       "       2020], dtype=int64)"
      ]
     },
     "execution_count": 42,
     "metadata": {},
     "output_type": "execute_result"
    }
   ],
   "source": [
    "year = imdb_title_basics_df['start_year'].unique()\n",
    "year"
   ]
  },
  {
   "cell_type": "code",
   "execution_count": 43,
   "metadata": {
    "scrolled": true
   },
   "outputs": [],
   "source": [
    "#Action = imdb_title_basics_df['Action'].value_counts().loc[True]\n"
   ]
  },
  {
   "cell_type": "code",
   "execution_count": 44,
   "metadata": {
    "scrolled": true
   },
   "outputs": [
    {
     "data": {
      "text/plain": [
       "start_year\n",
       "2010     891\n",
       "2011     912\n",
       "2012     919\n",
       "2013    1008\n",
       "2014    1073\n",
       "2015    1092\n",
       "2016    1207\n",
       "2017    1257\n",
       "2018    1128\n",
       "2019     669\n",
       "2020     137\n",
       "2021      28\n",
       "Name: Action, dtype: int64"
      ]
     },
     "execution_count": 44,
     "metadata": {},
     "output_type": "execute_result"
    }
   ],
   "source": [
    "action = imdb_title_basics_df.groupby(['start_year']).sum()['Action']\n",
    "\n",
    "action_year = action.keys()\n",
    "action_count = action.tolist()\n",
    "\n",
    "\n",
    "\n",
    "action"
   ]
  },
  {
   "cell_type": "code",
   "execution_count": 45,
   "metadata": {},
   "outputs": [],
   "source": [
    "comedy = imdb_title_basics_df.groupby(['start_year']).sum()['Comedy']\n",
    "\n",
    "comedy_year = comedy.keys()\n",
    "comedy_count = comedy.tolist()"
   ]
  },
  {
   "cell_type": "code",
   "execution_count": 46,
   "metadata": {
    "scrolled": true
   },
   "outputs": [
    {
     "data": {
      "text/plain": [
       "<matplotlib.legend.Legend at 0x1d55aed9df0>"
      ]
     },
     "execution_count": 46,
     "metadata": {},
     "output_type": "execute_result"
    },
    {
     "data": {
      "image/png": "[encoded data removed]",
      "text/plain": [
       "<Figure size 432x288 with 1 Axes>"
      ]
     },
     "metadata": {
      "needs_background": "light"
     },
     "output_type": "display_data"
    }
   ],
   "source": [
    "fig, ax = plt.subplots()\n",
    "width = .35\n",
    "ax.bar((action_year), action_count, width, label = \"Action\")\n",
    "ax.bar((action_year), comedy_count, width, bottom = action_count, label = \"Comedy\")\n",
    "ax.legend()"
   ]
  },
  {
   "cell_type": "code",
   "execution_count": null,
   "metadata": {},
   "outputs": [],
   "source": []
  }
 ],
 "metadata": {
  "kernelspec": {
   "display_name": "Python (learn-env)",
   "language": "python",
   "name": "learn-env"
  },
  "language_info": {
   "codemirror_mode": {
    "name": "ipython",
    "version": 3
   },
   "file_extension": ".py",
   "mimetype": "text/x-python",
   "name": "python",
   "nbconvert_exporter": "python",
   "pygments_lexer": "ipython3",
   "version": "3.8.5"
  }
 },
 "nbformat": 4,
 "nbformat_minor": 4
}
