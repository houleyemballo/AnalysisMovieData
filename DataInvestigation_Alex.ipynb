{
 "cells": [
  {
   "cell_type": "code",
   "execution_count": 1,
   "metadata": {},
   "outputs": [
    {
     "name": "stdout",
     "output_type": "stream",
     "text": [
      "DataInvestigation_Alex.ipynb\n",
      "README.md\n",
      "Untitled.ipynb\n",
      "zippedData\n"
     ]
    }
   ],
   "source": [
    "!ls\n"
   ]
  },
  {
   "cell_type": "code",
   "execution_count": 2,
   "metadata": {},
   "outputs": [
    {
     "name": "stdout",
     "output_type": "stream",
     "text": [
      "InitialDataExploration.ipynb\n",
      "Untitled.ipynb\n",
      "bom.movie_gross.csv.gz\n",
      "imdb.name.basics.csv.gz\n",
      "imdb.title.akas.csv.gz\n",
      "imdb.title.basics.csv.gz\n",
      "imdb.title.crew.csv.gz\n",
      "imdb.title.principals.csv.gz\n",
      "imdb.title.ratings.csv.gz\n",
      "rt.movie_info.tsv.gz\n",
      "rt.reviews.tsv.gz\n",
      "tmdb.movies.csv.gz\n",
      "tn.movie_budgets.csv.gz\n"
     ]
    }
   ],
   "source": [
    "!ls zippedData"
   ]
  },
  {
   "cell_type": "code",
   "execution_count": null,
   "metadata": {},
   "outputs": [],
   "source": []
  }
 ],
 "metadata": {
  "kernelspec": {
   "display_name": "Python (learn-env)",
   "language": "python",
   "name": "learn-env"
  },
  "language_info": {
   "codemirror_mode": {
    "name": "ipython",
    "version": 3
   },
   "file_extension": ".py",
   "mimetype": "text/x-python",
   "name": "python",
   "nbconvert_exporter": "python",
   "pygments_lexer": "ipython3",
   "version": "3.8.5"
  }
 },
 "nbformat": 4,
 "nbformat_minor": 4
}
